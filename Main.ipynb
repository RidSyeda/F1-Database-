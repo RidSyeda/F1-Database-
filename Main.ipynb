{
 "cells": [
  {
   "cell_type": "code",
   "execution_count": 1,
   "id": "ee8ce1ff",
   "metadata": {},
   "outputs": [
    {
     "data": {
      "text/plain": [
       "'C:\\\\Users\\\\raven\\\\F1Results DB (coursework)'"
      ]
     },
     "execution_count": 1,
     "metadata": {},
     "output_type": "execute_result"
    }
   ],
   "source": [
    "pwd"
   ]
  },
  {
   "cell_type": "code",
   "execution_count": 2,
   "id": "99b71dad",
   "metadata": {},
   "outputs": [],
   "source": [
    "import pandas as pd "
   ]
  },
  {
   "cell_type": "code",
   "execution_count": 3,
   "id": "d604d6d3",
   "metadata": {},
   "outputs": [],
   "source": [
    "import sqlite3"
   ]
  },
  {
   "cell_type": "code",
   "execution_count": 4,
   "id": "02803ac5",
   "metadata": {},
   "outputs": [],
   "source": [
    "import F1DB "
   ]
  },
  {
   "cell_type": "code",
   "execution_count": 5,
   "id": "09a55fda",
   "metadata": {},
   "outputs": [],
   "source": [
    "import QueryF1DB "
   ]
  },
  {
   "cell_type": "code",
   "execution_count": 6,
   "id": "68666bf3",
   "metadata": {},
   "outputs": [],
   "source": [
    "import VisQueryF1DB "
   ]
  },
  {
   "cell_type": "code",
   "execution_count": 7,
   "id": "ee793843",
   "metadata": {
    "scrolled": true
   },
   "outputs": [
    {
     "name": "stdout",
     "output_type": "stream",
     "text": [
      "C:/Users/raven/F1Results DB (coursework)F1DB\n",
      "Database created.\n",
      "Changes saved.\n"
     ]
    }
   ],
   "source": [
    "#Import all functions from F1DB \n",
    "from F1DB  import *\n",
    "# Provide the location of the database and its sample name\n",
    "path= \"C:/Users/raven/F1Results DB (coursework)\"\n",
    "database_name=\"F1DB\"\n",
    "#Create the F1DB using the function, create_Sqlite_connection under \"/Users/user/DBModule\"\n",
    "connection=create_Sqlite_connection(path, database_name)"
   ]
  },
  {
   "cell_type": "code",
   "execution_count": 8,
   "id": "4e4940f1",
   "metadata": {},
   "outputs": [],
   "source": [
    "import pandas as pd"
   ]
  },
  {
   "cell_type": "code",
   "execution_count": 9,
   "id": "e76effec",
   "metadata": {},
   "outputs": [],
   "source": [
    "path = \"C:/Users/raven/Downloads/f1db_csv_21/\""
   ]
  },
  {
   "cell_type": "code",
   "execution_count": 10,
   "id": "5bc396e7",
   "metadata": {},
   "outputs": [
    {
     "name": "stdout",
     "output_type": "stream",
     "text": [
      "C:/Users/raven/Downloads/f1db_csv_21/circuits.csv\n",
      "C:/Users/raven/Downloads/f1db_csv_21/constructors.csv\n",
      "C:/Users/raven/Downloads/f1db_csv_21/drivers.csv\n",
      "C:/Users/raven/Downloads/f1db_csv_21/lap_times.csv\n",
      "C:/Users/raven/Downloads/f1db_csv_21/pit_stops.csv\n",
      "C:/Users/raven/Downloads/f1db_csv_21/races.csv\n",
      "C:/Users/raven/Downloads/f1db_csv_21/results.csv\n",
      "circuits\n",
      "constructors\n",
      "drivers\n",
      "lap_times\n",
      "pit_stops\n",
      "races\n",
      "results\n"
     ]
    }
   ],
   "source": [
    "fname1 = \"circuits.csv\"\n",
    "fname2 = \"constructors.csv\"\n",
    "fname3 = \"drivers.csv\"\n",
    "fname4 = \"lap_times.csv\"\n",
    "fname5 = \"pit_stops.csv\"\n",
    "fname6 = \"races.csv\"\n",
    "fname7 = \"results.csv\"\n",
    "\n",
    "# Read the csv using the function, readcsv\n",
    "data1 = readcsv(path, fname1)\n",
    "data2 = readcsv(path, fname2)\n",
    "data3 = readcsv(path, fname3)\n",
    "data4 = readcsv(path, fname4)\n",
    "data5 = readcsv(path, fname5)\n",
    "data6 = readcsv(path, fname6)\n",
    "data7 = readcsv(path, fname7)\n",
    "\n",
    "\n",
    "# table uow  is created under movedb database space and populated with data from dataframe df using thefunction\n",
    "\n",
    "# writecsv_to_db\n",
    "\n",
    "tablename1=\"circuits\" \n",
    "table_name1=writecsv_to_db(data1, tablename1)\n",
    "\n",
    "tablename2=\"constructors\" \n",
    "table_name2=writecsv_to_db(data2, tablename2)\n",
    "\n",
    "tablename3=\"drivers\"\n",
    "table_name3=writecsv_to_db(data3, tablename3)\n",
    "\n",
    "tablename4=\"lap_times\" \n",
    "table_name4=writecsv_to_db(data4, tablename4)\n",
    "\n",
    "tablename5=\"pit_stops\" \n",
    "table_name5=writecsv_to_db(data5, tablename5)\n",
    "\n",
    "tablename6=\"races\" \n",
    "table_name6=writecsv_to_db(data6, tablename6)\n",
    "\n",
    "tablename7=\"results\"\n",
    "table_name7=writecsv_to_db(data7, tablename7)\n"
   ]
  },
  {
   "cell_type": "code",
   "execution_count": 11,
   "id": "43c1d1be",
   "metadata": {},
   "outputs": [],
   "source": [
    "#Import all functions from VisQueryF1DB\n",
    "from VisQueryF1DB import *\n",
    "from QueryF1DB import *"
   ]
  },
  {
   "cell_type": "code",
   "execution_count": 12,
   "id": "d2d44fb2",
   "metadata": {},
   "outputs": [
    {
     "name": "stdout",
     "output_type": "stream",
     "text": [
      "select country,count(*) as total from circuits group by country having total >1\n"
     ]
    },
    {
     "data": {
      "text/html": [
       "<div>\n",
       "<style scoped>\n",
       "    .dataframe tbody tr th:only-of-type {\n",
       "        vertical-align: middle;\n",
       "    }\n",
       "\n",
       "    .dataframe tbody tr th {\n",
       "        vertical-align: top;\n",
       "    }\n",
       "\n",
       "    .dataframe thead th {\n",
       "        text-align: right;\n",
       "    }\n",
       "</style>\n",
       "<table border=\"1\" class=\"dataframe\">\n",
       "  <thead>\n",
       "    <tr style=\"text-align: right;\">\n",
       "      <th></th>\n",
       "      <th>country</th>\n",
       "      <th>total</th>\n",
       "    </tr>\n",
       "  </thead>\n",
       "  <tbody>\n",
       "    <tr>\n",
       "      <th>0</th>\n",
       "      <td>Australia</td>\n",
       "      <td>2</td>\n",
       "    </tr>\n",
       "    <tr>\n",
       "      <th>1</th>\n",
       "      <td>Austria</td>\n",
       "      <td>3</td>\n",
       "    </tr>\n",
       "    <tr>\n",
       "      <th>2</th>\n",
       "      <td>Belgium</td>\n",
       "      <td>3</td>\n",
       "    </tr>\n",
       "    <tr>\n",
       "      <th>3</th>\n",
       "      <td>Brazil</td>\n",
       "      <td>2</td>\n",
       "    </tr>\n",
       "    <tr>\n",
       "      <th>4</th>\n",
       "      <td>Canada</td>\n",
       "      <td>3</td>\n",
       "    </tr>\n",
       "    <tr>\n",
       "      <th>5</th>\n",
       "      <td>France</td>\n",
       "      <td>7</td>\n",
       "    </tr>\n",
       "    <tr>\n",
       "      <th>6</th>\n",
       "      <td>Germany</td>\n",
       "      <td>3</td>\n",
       "    </tr>\n",
       "    <tr>\n",
       "      <th>7</th>\n",
       "      <td>Italy</td>\n",
       "      <td>4</td>\n",
       "    </tr>\n",
       "    <tr>\n",
       "      <th>8</th>\n",
       "      <td>Japan</td>\n",
       "      <td>3</td>\n",
       "    </tr>\n",
       "    <tr>\n",
       "      <th>9</th>\n",
       "      <td>Portugal</td>\n",
       "      <td>4</td>\n",
       "    </tr>\n",
       "    <tr>\n",
       "      <th>10</th>\n",
       "      <td>South Africa</td>\n",
       "      <td>2</td>\n",
       "    </tr>\n",
       "    <tr>\n",
       "      <th>11</th>\n",
       "      <td>Spain</td>\n",
       "      <td>6</td>\n",
       "    </tr>\n",
       "    <tr>\n",
       "      <th>12</th>\n",
       "      <td>UK</td>\n",
       "      <td>4</td>\n",
       "    </tr>\n",
       "    <tr>\n",
       "      <th>13</th>\n",
       "      <td>USA</td>\n",
       "      <td>11</td>\n",
       "    </tr>\n",
       "  </tbody>\n",
       "</table>\n",
       "</div>"
      ],
      "text/plain": [
       "         country  total\n",
       "0      Australia      2\n",
       "1        Austria      3\n",
       "2        Belgium      3\n",
       "3         Brazil      2\n",
       "4         Canada      3\n",
       "5         France      7\n",
       "6        Germany      3\n",
       "7          Italy      4\n",
       "8          Japan      3\n",
       "9       Portugal      4\n",
       "10  South Africa      2\n",
       "11         Spain      6\n",
       "12            UK      4\n",
       "13           USA     11"
      ]
     },
     "execution_count": 12,
     "metadata": {},
     "output_type": "execute_result"
    }
   ],
   "source": [
    "# Visualization 1\n",
    "# How many circuits are available per Country?\n",
    "\n",
    "query1 = \"select country,count(*) as total from circuits group by country having total >1\"\n",
    "\n",
    "# Assuming 'connection' is your database connection object\n",
    "Visualization1_df = displaydbtable(query1, connection)\n",
    "\n",
    "# Display the first few rows of the DataFrame\n",
    "Visualization1_df"
   ]
  },
  {
   "cell_type": "code",
   "execution_count": 13,
   "id": "34056a1c",
   "metadata": {},
   "outputs": [
    {
     "data": {
      "image/png": "[encoded data removed]",
      "text/plain": [
       "<Figure size 640x480 with 1 Axes>"
      ]
     },
     "metadata": {},
     "output_type": "display_data"
    }
   ],
   "source": [
    "# Visualization 1\n",
    "# How many circuits are available per Country?\n",
    "import pandas as pd \n",
    "import numpy as np \n",
    "import matplotlib.pyplot as plt\n",
    "\n",
    "value1=Visualization1_df['country'].tolist() \n",
    "value2=Visualization1_df['total'].tolist()\n",
    "plt.title('The circuits are available per Country')\n",
    "plt.xlabel('country')\n",
    "plt.ylabel('total')\n",
    "displaybar(value1,value2,color='teal')\n",
    "\n",
    "plt.show()"
   ]
  },
  {
   "cell_type": "code",
   "execution_count": 15,
   "id": "c9656923",
   "metadata": {},
   "outputs": [
    {
     "name": "stdout",
     "output_type": "stream",
     "text": [
      "SELECT year, count(*) as total FROM races group by year  Having year > 2009 \n"
     ]
    },
    {
     "data": {
      "text/html": [
       "<div>\n",
       "<style scoped>\n",
       "    .dataframe tbody tr th:only-of-type {\n",
       "        vertical-align: middle;\n",
       "    }\n",
       "\n",
       "    .dataframe tbody tr th {\n",
       "        vertical-align: top;\n",
       "    }\n",
       "\n",
       "    .dataframe thead th {\n",
       "        text-align: right;\n",
       "    }\n",
       "</style>\n",
       "<table border=\"1\" class=\"dataframe\">\n",
       "  <thead>\n",
       "    <tr style=\"text-align: right;\">\n",
       "      <th></th>\n",
       "      <th>year</th>\n",
       "      <th>total</th>\n",
       "    </tr>\n",
       "  </thead>\n",
       "  <tbody>\n",
       "    <tr>\n",
       "      <th>0</th>\n",
       "      <td>2010</td>\n",
       "      <td>19</td>\n",
       "    </tr>\n",
       "    <tr>\n",
       "      <th>1</th>\n",
       "      <td>2011</td>\n",
       "      <td>19</td>\n",
       "    </tr>\n",
       "    <tr>\n",
       "      <th>2</th>\n",
       "      <td>2012</td>\n",
       "      <td>20</td>\n",
       "    </tr>\n",
       "    <tr>\n",
       "      <th>3</th>\n",
       "      <td>2013</td>\n",
       "      <td>19</td>\n",
       "    </tr>\n",
       "    <tr>\n",
       "      <th>4</th>\n",
       "      <td>2014</td>\n",
       "      <td>19</td>\n",
       "    </tr>\n",
       "    <tr>\n",
       "      <th>5</th>\n",
       "      <td>2015</td>\n",
       "      <td>19</td>\n",
       "    </tr>\n",
       "    <tr>\n",
       "      <th>6</th>\n",
       "      <td>2016</td>\n",
       "      <td>21</td>\n",
       "    </tr>\n",
       "    <tr>\n",
       "      <th>7</th>\n",
       "      <td>2017</td>\n",
       "      <td>20</td>\n",
       "    </tr>\n",
       "    <tr>\n",
       "      <th>8</th>\n",
       "      <td>2018</td>\n",
       "      <td>21</td>\n",
       "    </tr>\n",
       "    <tr>\n",
       "      <th>9</th>\n",
       "      <td>2019</td>\n",
       "      <td>21</td>\n",
       "    </tr>\n",
       "    <tr>\n",
       "      <th>10</th>\n",
       "      <td>2020</td>\n",
       "      <td>17</td>\n",
       "    </tr>\n",
       "    <tr>\n",
       "      <th>11</th>\n",
       "      <td>2021</td>\n",
       "      <td>22</td>\n",
       "    </tr>\n",
       "  </tbody>\n",
       "</table>\n",
       "</div>"
      ],
      "text/plain": [
       "    year  total\n",
       "0   2010     19\n",
       "1   2011     19\n",
       "2   2012     20\n",
       "3   2013     19\n",
       "4   2014     19\n",
       "5   2015     19\n",
       "6   2016     21\n",
       "7   2017     20\n",
       "8   2018     21\n",
       "9   2019     21\n",
       "10  2020     17\n",
       "11  2021     22"
      ]
     },
     "execution_count": 15,
     "metadata": {},
     "output_type": "execute_result"
    }
   ],
   "source": [
    "#Visualization 2\n",
    "#What is the number of races per season?\n",
    "\n",
    "query2=\"SELECT year, count(*) as total FROM races group by year  Having year > 2009 \"\n",
    "\n",
    "# Assuming 'connection' is your database connection object\n",
    "Visualization2_df = displaydbtable(query2, connection)\n",
    "\n",
    "# Display the first few rows of the DataFrame\n",
    "Visualization2_df"
   ]
  },
  {
   "cell_type": "code",
   "execution_count": 16,
   "id": "494e5095",
   "metadata": {},
   "outputs": [
    {
     "data": {
      "image/png": "[encoded data removed]",
      "text/plain": [
       "<Figure size 640x480 with 1 Axes>"
      ]
     },
     "metadata": {},
     "output_type": "display_data"
    },
    {
     "data": {
      "text/plain": [
       "<function matplotlib.pyplot.show(close=None, block=None)>"
      ]
     },
     "execution_count": 16,
     "metadata": {},
     "output_type": "execute_result"
    }
   ],
   "source": [
    "#Visualization 2\n",
    "#What is the number of races per season?\n",
    "\n",
    "import matplotlib.pyplot as plt\n",
    "\n",
    "list1 = Visualization2_df['total'].tolist()\n",
    "list2 = Visualization2_df['year'].tolist()\n",
    "plt.title('the number of races per season from 2010-2021')\n",
    "displaypie(list1, list2)\n",
    "plt.show"
   ]
  },
  {
   "cell_type": "code",
   "execution_count": 17,
   "id": "c0093708",
   "metadata": {},
   "outputs": [
    {
     "name": "stdout",
     "output_type": "stream",
     "text": [
      "SELECT nationality, count(*) as total FROM constructors GROUP BY nationality HAVING count(*) > 2\n"
     ]
    },
    {
     "data": {
      "text/html": [
       "<div>\n",
       "<style scoped>\n",
       "    .dataframe tbody tr th:only-of-type {\n",
       "        vertical-align: middle;\n",
       "    }\n",
       "\n",
       "    .dataframe tbody tr th {\n",
       "        vertical-align: top;\n",
       "    }\n",
       "\n",
       "    .dataframe thead th {\n",
       "        text-align: right;\n",
       "    }\n",
       "</style>\n",
       "<table border=\"1\" class=\"dataframe\">\n",
       "  <thead>\n",
       "    <tr style=\"text-align: right;\">\n",
       "      <th></th>\n",
       "      <th>nationality</th>\n",
       "      <th>total</th>\n",
       "    </tr>\n",
       "  </thead>\n",
       "  <tbody>\n",
       "    <tr>\n",
       "      <th>0</th>\n",
       "      <td>American</td>\n",
       "      <td>39</td>\n",
       "    </tr>\n",
       "    <tr>\n",
       "      <th>1</th>\n",
       "      <td>British</td>\n",
       "      <td>86</td>\n",
       "    </tr>\n",
       "    <tr>\n",
       "      <th>2</th>\n",
       "      <td>Dutch</td>\n",
       "      <td>3</td>\n",
       "    </tr>\n",
       "    <tr>\n",
       "      <th>3</th>\n",
       "      <td>French</td>\n",
       "      <td>13</td>\n",
       "    </tr>\n",
       "    <tr>\n",
       "      <th>4</th>\n",
       "      <td>German</td>\n",
       "      <td>10</td>\n",
       "    </tr>\n",
       "    <tr>\n",
       "      <th>5</th>\n",
       "      <td>Italian</td>\n",
       "      <td>29</td>\n",
       "    </tr>\n",
       "    <tr>\n",
       "      <th>6</th>\n",
       "      <td>Japanese</td>\n",
       "      <td>5</td>\n",
       "    </tr>\n",
       "    <tr>\n",
       "      <th>7</th>\n",
       "      <td>South African</td>\n",
       "      <td>3</td>\n",
       "    </tr>\n",
       "    <tr>\n",
       "      <th>8</th>\n",
       "      <td>Swiss</td>\n",
       "      <td>5</td>\n",
       "    </tr>\n",
       "  </tbody>\n",
       "</table>\n",
       "</div>"
      ],
      "text/plain": [
       "     nationality  total\n",
       "0       American     39\n",
       "1        British     86\n",
       "2          Dutch      3\n",
       "3         French     13\n",
       "4         German     10\n",
       "5        Italian     29\n",
       "6       Japanese      5\n",
       "7  South African      3\n",
       "8          Swiss      5"
      ]
     },
     "execution_count": 17,
     "metadata": {},
     "output_type": "execute_result"
    }
   ],
   "source": [
    "# Visualization 3\n",
    "# What is the number of constructors per nationality?\n",
    "\n",
    "query3 = '''SELECT nationality, count(*) as total FROM constructors GROUP BY nationality HAVING count(*) > 2'''\n",
    "\n",
    "# Assuming 'connection' is your database connection object\n",
    "Visualization3_df = displaydbtable(query3, connection)\n",
    "\n",
    "# Display the first few rows of the DataFrame\n",
    "Visualization3_df"
   ]
  },
  {
   "cell_type": "code",
   "execution_count": 18,
   "id": "61820ed3",
   "metadata": {},
   "outputs": [
    {
     "data": {
      "image/png": "[encoded data removed]",
      "text/plain": [
       "<Figure size 640x480 with 1 Axes>"
      ]
     },
     "metadata": {},
     "output_type": "display_data"
    }
   ],
   "source": [
    "import pandas as pd\n",
    "import numpy as np\n",
    "import matplotlib.pyplot as plt\n",
    "\n",
    "col1 = Visualization3_df['nationality']\n",
    "col2 = Visualization3_df['total']\n",
    "plt.title('The number of constructors per nationality')\n",
    "plt.xlabel(\"Nationality\")\n",
    "plt.ylabel(\"Total\")\n",
    "displayscatter(col1, col2, color='#D40071')\n",
    "plt.show()"
   ]
  },
  {
   "cell_type": "code",
   "execution_count": 19,
   "id": "5991496e",
   "metadata": {},
   "outputs": [
    {
     "name": "stdout",
     "output_type": "stream",
     "text": [
      "SELECT constructorId, sum(points) as total_points_scored from results \n",
      "group by constructorId having sum(points)>400\n"
     ]
    },
    {
     "data": {
      "text/html": [
       "<div>\n",
       "<style scoped>\n",
       "    .dataframe tbody tr th:only-of-type {\n",
       "        vertical-align: middle;\n",
       "    }\n",
       "\n",
       "    .dataframe tbody tr th {\n",
       "        vertical-align: top;\n",
       "    }\n",
       "\n",
       "    .dataframe thead th {\n",
       "        text-align: right;\n",
       "    }\n",
       "</style>\n",
       "<table border=\"1\" class=\"dataframe\">\n",
       "  <thead>\n",
       "    <tr style=\"text-align: right;\">\n",
       "      <th></th>\n",
       "      <th>constructorId</th>\n",
       "      <th>total_points_scored</th>\n",
       "    </tr>\n",
       "  </thead>\n",
       "  <tbody>\n",
       "    <tr>\n",
       "      <th>0</th>\n",
       "      <td>1</td>\n",
       "      <td>5981.50</td>\n",
       "    </tr>\n",
       "    <tr>\n",
       "      <th>1</th>\n",
       "      <td>3</td>\n",
       "      <td>3590.00</td>\n",
       "    </tr>\n",
       "    <tr>\n",
       "      <th>2</th>\n",
       "      <td>4</td>\n",
       "      <td>1777.00</td>\n",
       "    </tr>\n",
       "    <tr>\n",
       "      <th>3</th>\n",
       "      <td>5</td>\n",
       "      <td>500.00</td>\n",
       "    </tr>\n",
       "    <tr>\n",
       "      <th>4</th>\n",
       "      <td>6</td>\n",
       "      <td>9590.27</td>\n",
       "    </tr>\n",
       "    <tr>\n",
       "      <th>5</th>\n",
       "      <td>9</td>\n",
       "      <td>5585.00</td>\n",
       "    </tr>\n",
       "    <tr>\n",
       "      <th>6</th>\n",
       "      <td>10</td>\n",
       "      <td>1098.00</td>\n",
       "    </tr>\n",
       "    <tr>\n",
       "      <th>7</th>\n",
       "      <td>15</td>\n",
       "      <td>557.00</td>\n",
       "    </tr>\n",
       "    <tr>\n",
       "      <th>8</th>\n",
       "      <td>22</td>\n",
       "      <td>861.50</td>\n",
       "    </tr>\n",
       "    <tr>\n",
       "      <th>9</th>\n",
       "      <td>25</td>\n",
       "      <td>711.00</td>\n",
       "    </tr>\n",
       "    <tr>\n",
       "      <th>10</th>\n",
       "      <td>32</td>\n",
       "      <td>995.00</td>\n",
       "    </tr>\n",
       "    <tr>\n",
       "      <th>11</th>\n",
       "      <td>34</td>\n",
       "      <td>631.00</td>\n",
       "    </tr>\n",
       "    <tr>\n",
       "      <th>12</th>\n",
       "      <td>66</td>\n",
       "      <td>537.50</td>\n",
       "    </tr>\n",
       "    <tr>\n",
       "      <th>13</th>\n",
       "      <td>131</td>\n",
       "      <td>6370.64</td>\n",
       "    </tr>\n",
       "    <tr>\n",
       "      <th>14</th>\n",
       "      <td>208</td>\n",
       "      <td>706.00</td>\n",
       "    </tr>\n",
       "  </tbody>\n",
       "</table>\n",
       "</div>"
      ],
      "text/plain": [
       "    constructorId  total_points_scored\n",
       "0               1              5981.50\n",
       "1               3              3590.00\n",
       "2               4              1777.00\n",
       "3               5               500.00\n",
       "4               6              9590.27\n",
       "5               9              5585.00\n",
       "6              10              1098.00\n",
       "7              15               557.00\n",
       "8              22               861.50\n",
       "9              25               711.00\n",
       "10             32               995.00\n",
       "11             34               631.00\n",
       "12             66               537.50\n",
       "13            131              6370.64\n",
       "14            208               706.00"
      ]
     },
     "execution_count": 19,
     "metadata": {},
     "output_type": "execute_result"
    }
   ],
   "source": [
    "#Visualization 4,1\n",
    "#How many points has each constructor scored?\n",
    "\n",
    "query4_a='''SELECT constructorId, sum(points) as total_points_scored from results \n",
    "group by constructorId having sum(points)>400'''\n",
    "\n",
    "# Assuming 'connection' is your database connection object\n",
    "Visualization4a_df = displaydbtable(query4_a, connection)\n",
    "\n",
    "# Display the first few rows of the DataFrame\n",
    "Visualization4a_df"
   ]
  },
  {
   "cell_type": "code",
   "execution_count": 20,
   "id": "184aabfe",
   "metadata": {},
   "outputs": [
    {
     "data": {
      "image/png": "[encoded data removed]",
      "text/plain": [
       "<Figure size 640x480 with 1 Axes>"
      ]
     },
     "metadata": {},
     "output_type": "display_data"
    }
   ],
   "source": [
    "import matplotlib.pyplot as plt \n",
    "import numpy as np \n",
    "les1 = Visualization4a_df['constructorId']  \n",
    "les2= Visualization4a_df['total_points_scored']\n",
    "plt.title(' Points has each constructor scored')\n",
    "plt.xlabel('Constructor ID')\n",
    "plt.ylabel('Total Points Scored')\n",
    "displayline(les1, les2, color='skyblue')\n",
    "plt.show() "
   ]
  },
  {
   "cell_type": "code",
   "execution_count": 21,
   "id": "f6d239fb",
   "metadata": {},
   "outputs": [
    {
     "name": "stdout",
     "output_type": "stream",
     "text": [
      "SELECT constructorId, count(raceId) as no_of_races FROM results \n",
      "GROUP BY constructorId HAVING count(raceId) > 555\n"
     ]
    },
    {
     "data": {
      "text/html": [
       "<div>\n",
       "<style scoped>\n",
       "    .dataframe tbody tr th:only-of-type {\n",
       "        vertical-align: middle;\n",
       "    }\n",
       "\n",
       "    .dataframe tbody tr th {\n",
       "        vertical-align: top;\n",
       "    }\n",
       "\n",
       "    .dataframe thead th {\n",
       "        text-align: right;\n",
       "    }\n",
       "</style>\n",
       "<table border=\"1\" class=\"dataframe\">\n",
       "  <thead>\n",
       "    <tr style=\"text-align: right;\">\n",
       "      <th></th>\n",
       "      <th>constructorId</th>\n",
       "      <th>no_of_races</th>\n",
       "    </tr>\n",
       "  </thead>\n",
       "  <tbody>\n",
       "    <tr>\n",
       "      <th>0</th>\n",
       "      <td>1</td>\n",
       "      <td>1783</td>\n",
       "    </tr>\n",
       "    <tr>\n",
       "      <th>1</th>\n",
       "      <td>3</td>\n",
       "      <td>1537</td>\n",
       "    </tr>\n",
       "    <tr>\n",
       "      <th>2</th>\n",
       "      <td>4</td>\n",
       "      <td>787</td>\n",
       "    </tr>\n",
       "    <tr>\n",
       "      <th>3</th>\n",
       "      <td>6</td>\n",
       "      <td>2299</td>\n",
       "    </tr>\n",
       "    <tr>\n",
       "      <th>4</th>\n",
       "      <td>9</td>\n",
       "      <td>648</td>\n",
       "    </tr>\n",
       "    <tr>\n",
       "      <th>5</th>\n",
       "      <td>15</td>\n",
       "      <td>789</td>\n",
       "    </tr>\n",
       "    <tr>\n",
       "      <th>6</th>\n",
       "      <td>18</td>\n",
       "      <td>672</td>\n",
       "    </tr>\n",
       "    <tr>\n",
       "      <th>7</th>\n",
       "      <td>21</td>\n",
       "      <td>590</td>\n",
       "    </tr>\n",
       "    <tr>\n",
       "      <th>8</th>\n",
       "      <td>25</td>\n",
       "      <td>881</td>\n",
       "    </tr>\n",
       "    <tr>\n",
       "      <th>9</th>\n",
       "      <td>27</td>\n",
       "      <td>611</td>\n",
       "    </tr>\n",
       "    <tr>\n",
       "      <th>10</th>\n",
       "      <td>32</td>\n",
       "      <td>871</td>\n",
       "    </tr>\n",
       "    <tr>\n",
       "      <th>11</th>\n",
       "      <td>34</td>\n",
       "      <td>662</td>\n",
       "    </tr>\n",
       "    <tr>\n",
       "      <th>12</th>\n",
       "      <td>66</td>\n",
       "      <td>562</td>\n",
       "    </tr>\n",
       "  </tbody>\n",
       "</table>\n",
       "</div>"
      ],
      "text/plain": [
       "    constructorId  no_of_races\n",
       "0               1         1783\n",
       "1               3         1537\n",
       "2               4          787\n",
       "3               6         2299\n",
       "4               9          648\n",
       "5              15          789\n",
       "6              18          672\n",
       "7              21          590\n",
       "8              25          881\n",
       "9              27          611\n",
       "10             32          871\n",
       "11             34          662\n",
       "12             66          562"
      ]
     },
     "execution_count": 21,
     "metadata": {},
     "output_type": "execute_result"
    }
   ],
   "source": [
    "#Visualization 4,b\n",
    "#In how many races does each constructor participates?\n",
    "\n",
    "query4_b = '''SELECT constructorId, count(raceId) as no_of_races FROM results \n",
    "GROUP BY constructorId HAVING count(raceId) > 555'''\n",
    "\n",
    "# Assuming 'connection' is your database connection object\n",
    "Visualization4b_df = displaydbtable(query4_b, connection)\n",
    "\n",
    "# Display the first few rows of the DataFrame\n",
    "Visualization4b_df"
   ]
  },
  {
   "cell_type": "code",
   "execution_count": null,
   "id": "b633db06",
   "metadata": {},
   "outputs": [],
   "source": [
    "\n",
    "import pandas as pd\n",
    "import matplotlib.pyplot as plt\n",
    "\n",
    "col1=Visualization4b_df['no_of_races']\n",
    "plt.title('Histogram of Number of Races Each Constructor Participates In')\n",
    "plt.xlabel('Number of Races')\n",
    "plt.ylabel('constructorId')\n",
    "\n",
    "displayshistogram(col1, bins=3,color='#9D8EFF',edgecolor='magenta')\n",
    "plt.show()"
   ]
  },
  {
   "cell_type": "code",
   "execution_count": null,
   "id": "fff05060",
   "metadata": {},
   "outputs": [],
   "source": [
    "#Visualization 5\n",
    "#What is the trend of fastest lap times over the years per circuit?\n",
    "#Please consider a reasonable number of circuits only\n",
    "\n",
    "query5 = '''SELECT year, circuitId as \"circuitId (Abu Dhabi Grand Prix)\", name, fastestLapTime\n",
    "      FROM results \n",
    "      INNER JOIN races ON results.raceId =races.raceId \n",
    "      WHERE name= \"Abu Dhabi Grand Prix\"\n",
    "      GROUP BY year\n",
    "      ORDER BY fastestLapTime asc'''\n",
    "\n",
    "# Assuming 'connection' is your database connection object\n",
    "Visualization5_df = displaydbtable(query5, connection)\n",
    "\n",
    "# Display the first few rows of the DataFrame\n",
    "Visualization5_df"
   ]
  },
  {
   "cell_type": "code",
   "execution_count": null,
   "id": "eba21840",
   "metadata": {},
   "outputs": [],
   "source": [
    "#Visualization 5\n",
    "#What is the trend of fastest lap times over the years per circuit?\n",
    "#Please consider a reasonable number of circuits only\n",
    "\n",
    "import matplotlib.pyplot as plt\n",
    "import numpy as np\n",
    "\n",
    "data1= Visualization5_df[\"year\"] \n",
    "data2=Visualization5_df[\"fastestLapTime\"] \n",
    "plt.xlabel(\"year\")\n",
    "plt.ylabel(\"fastestLapTime\")\n",
    "plt.title(\"The trend of fastest lap times over the years for Abu Dhabi Grand Prix circuit\")\n",
    "displaycharts(data1, data2,color='#A50000')\n",
    "plt.show()"
   ]
  },
  {
   "cell_type": "code",
   "execution_count": null,
   "id": "5aa73e63",
   "metadata": {},
   "outputs": [],
   "source": []
  },
  {
   "cell_type": "code",
   "execution_count": null,
   "id": "33f5c57c",
   "metadata": {},
   "outputs": [],
   "source": []
  }
 ],
 "metadata": {
  "kernelspec": {
   "display_name": "Python 3 (ipykernel)",
   "language": "python",
   "name": "python3"
  },
  "language_info": {
   "codemirror_mode": {
    "name": "ipython",
    "version": 3
   },
   "file_extension": ".py",
   "mimetype": "text/x-python",
   "name": "python",
   "nbconvert_exporter": "python",
   "pygments_lexer": "ipython3",
   "version": "3.11.4"
  }
 },
 "nbformat": 4,
 "nbformat_minor": 5
}
